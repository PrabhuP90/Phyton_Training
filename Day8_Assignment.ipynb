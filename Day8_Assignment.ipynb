{
  "nbformat": 4,
  "nbformat_minor": 0,
  "metadata": {
    "colab": {
      "provenance": [],
      "authorship_tag": "ABX9TyNxGwvroqu/iHOiZIN1rPAB",
      "include_colab_link": true
    },
    "kernelspec": {
      "name": "python3",
      "display_name": "Python 3"
    },
    "language_info": {
      "name": "python"
    }
  },
  "cells": [
    {
      "cell_type": "markdown",
      "metadata": {
        "id": "view-in-github",
        "colab_type": "text"
      },
      "source": [
        "<a href=\"https://colab.research.google.com/github/PrabhuP90/Phyton_Training/blob/main/Day8_Assignment.ipynb\" target=\"_parent\"><img src=\"https://colab.research.google.com/assets/colab-badge.svg\" alt=\"Open In Colab\"/></a>"
      ]
    },
    {
      "cell_type": "code",
      "execution_count": 9,
      "metadata": {
        "id": "Wkx943VgBx_P"
      },
      "outputs": [],
      "source": [
        "from maths_operations import subtraction"
      ]
    },
    {
      "cell_type": "code",
      "source": [
        "subtraction(10,5)"
      ],
      "metadata": {
        "colab": {
          "base_uri": "https://localhost:8080/"
        },
        "id": "Uobhr2RvCh4g",
        "outputId": "e904e986-81b1-4482-f498-ea97340d9988"
      },
      "execution_count": 11,
      "outputs": [
        {
          "output_type": "execute_result",
          "data": {
            "text/plain": [
              "5"
            ]
          },
          "metadata": {},
          "execution_count": 11
        }
      ]
    },
    {
      "cell_type": "code",
      "source": [
        "import maths_operations"
      ],
      "metadata": {
        "id": "hmRyT_4HC-Bb"
      },
      "execution_count": 12,
      "outputs": []
    },
    {
      "cell_type": "code",
      "source": [
        "print(\"Addition = \", maths_operations.addition(10,5))\n",
        "print(\"Subtraction = \", maths_operations.subtraction(10,5))\n",
        "print(\"Multiplication = \", maths_operations.multiplication(10,5))\n",
        "print(\"Division = \", maths_operations.division(10,5))"
      ],
      "metadata": {
        "colab": {
          "base_uri": "https://localhost:8080/"
        },
        "id": "-NCvxonxDAkR",
        "outputId": "3f6922a4-d148-4909-ad32-a862fa7bd12f"
      },
      "execution_count": 15,
      "outputs": [
        {
          "output_type": "stream",
          "name": "stdout",
          "text": [
            "Addition =  15\n",
            "Subtraction =  5\n",
            "Multiplication =  50\n",
            "Division =  2.0\n"
          ]
        }
      ]
    },
    {
      "cell_type": "code",
      "source": [
        "from constants import gravity\n",
        "mass = 10\n",
        "height = 5\n",
        "Energy = mass * gravity * height\n",
        "print(\"Potential Energy = \",Energy )"
      ],
      "metadata": {
        "colab": {
          "base_uri": "https://localhost:8080/"
        },
        "id": "9J8d6ndkEUk2",
        "outputId": "2362e5d3-f41a-40c4-96f0-736550d8fffd"
      },
      "execution_count": 21,
      "outputs": [
        {
          "output_type": "stream",
          "name": "stdout",
          "text": [
            "Potential Energy =  490.0\n"
          ]
        }
      ]
    },
    {
      "cell_type": "code",
      "source": [
        "from Shapes import circle\n",
        "import Shapes"
      ],
      "metadata": {
        "id": "CxpucOZ2HJ15"
      },
      "execution_count": 26,
      "outputs": []
    },
    {
      "cell_type": "code",
      "source": [
        "length = 5\n",
        "radius = 3\n",
        "Shapes.square.calculate_area_square(length)\n",
        "circle.calculate_area_circle(radius)"
      ],
      "metadata": {
        "colab": {
          "base_uri": "https://localhost:8080/"
        },
        "id": "e-ybE-fdHgeI",
        "outputId": "b01649fa-61f0-4d6d-e831-382ecf16b082"
      },
      "execution_count": 30,
      "outputs": [
        {
          "output_type": "stream",
          "name": "stdout",
          "text": [
            "Area of a square = 25\n",
            "Area of a circle = 28.26\n"
          ]
        }
      ]
    },
    {
      "cell_type": "code",
      "source": [
        "class Person:\n",
        "  def __init__(self,name,age):\n",
        "    self.name = name\n",
        "    self.age = age\n",
        "\n",
        "  def display_info(self):\n",
        "    print(f\"Name : {self.name}\")\n",
        "    print(f\"Age : {self.age}\")\n",
        "\n",
        "Person1 = Person(\"Alice\",16)\n",
        "Person1.display_info()"
      ],
      "metadata": {
        "colab": {
          "base_uri": "https://localhost:8080/"
        },
        "id": "XPhyqoEyJzVL",
        "outputId": "56086212-c4c3-40bb-f3a0-c8b6b1167f64"
      },
      "execution_count": 35,
      "outputs": [
        {
          "output_type": "stream",
          "name": "stdout",
          "text": [
            "Name : Alice\n",
            "Age : 16\n"
          ]
        }
      ]
    },
    {
      "cell_type": "code",
      "source": [
        "class circle:\n",
        "  def calculate_area(self,r):\n",
        "    print(f\"The area of the circle with radius {r} is approximately \", 3.14*r*r)\n",
        "\n",
        "circle1=circle()\n",
        "circle1.calculate_area(5)"
      ],
      "metadata": {
        "colab": {
          "base_uri": "https://localhost:8080/"
        },
        "id": "46VMHHzyf9mA",
        "outputId": "5e42b82e-54be-4e26-abb3-7807ba992a93"
      },
      "execution_count": 38,
      "outputs": [
        {
          "output_type": "stream",
          "name": "stdout",
          "text": [
            "The area of the circle with radius 5 is approximately  78.5\n"
          ]
        }
      ]
    },
    {
      "cell_type": "code",
      "source": [
        "class rectangle:\n",
        "  def calculate_area(self,l,w):\n",
        "    print(\"The area of the rectangle is \", l*w)\n",
        "\n",
        "rect1=rectangle()\n",
        "rect1.calculate_area(5,3)"
      ],
      "metadata": {
        "colab": {
          "base_uri": "https://localhost:8080/"
        },
        "id": "SzeVZcYGhHlj",
        "outputId": "a8ceeee2-7c65-4e4d-d868-c43ac5f1bf23"
      },
      "execution_count": 39,
      "outputs": [
        {
          "output_type": "stream",
          "name": "stdout",
          "text": [
            "The area of the rectangle is  15\n"
          ]
        }
      ]
    },
    {
      "cell_type": "code",
      "source": [
        "class Book:\n",
        "  def __init__(self,title,author):\n",
        "    self.title = title\n",
        "    self.author = author\n",
        "\n",
        "  def display_info(self):\n",
        "    print(\"Book Information\")\n",
        "    print(\"Title: :\", self.title)\n",
        "    print(\"Author :\", self.author)\n",
        "\n",
        "Book1 = Book(\"Python Programming\",\"John Doe\")\n",
        "Book1.display_info()"
      ],
      "metadata": {
        "colab": {
          "base_uri": "https://localhost:8080/"
        },
        "id": "5Oj1P6DShtG5",
        "outputId": "21ce45aa-8704-453c-e3b3-975924fccbeb"
      },
      "execution_count": 40,
      "outputs": [
        {
          "output_type": "stream",
          "name": "stdout",
          "text": [
            "Book Information\n",
            "Title: : Python Programming\n",
            "Author : John Doe\n"
          ]
        }
      ]
    },
    {
      "cell_type": "code",
      "source": [
        "class logfile:\n",
        "\n",
        "  def __init__(self):\n",
        "    print(\"Instance of LogFile created.\")\n",
        "\n",
        "  def __del__(self):\n",
        "    print(\"Instance of LogFile deleted.\")\n",
        "\n",
        "def createobject():\n",
        "    print(\"Creating an instance of LogFile...\")\n",
        "    logfile1 = logfile()\n",
        "    print(\"Deleting the instance of LogFile..\")\n",
        "\n",
        "createobject()"
      ],
      "metadata": {
        "colab": {
          "base_uri": "https://localhost:8080/"
        },
        "id": "9E48-pi7jJk0",
        "outputId": "e984a35e-213f-47c9-9696-58b264aed576"
      },
      "execution_count": 46,
      "outputs": [
        {
          "output_type": "stream",
          "name": "stdout",
          "text": [
            "Creating an instance of LogFile...\n",
            "Instance of LogFile created.\n",
            "Deleting the instance of LogFile..\n",
            "Instance of LogFile deleted.\n"
          ]
        }
      ]
    }
  ]
}