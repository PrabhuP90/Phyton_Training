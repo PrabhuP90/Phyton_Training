{
  "nbformat": 4,
  "nbformat_minor": 0,
  "metadata": {
    "colab": {
      "provenance": [],
      "authorship_tag": "ABX9TyP4m3ANvJGaHVeqzYZabwW5",
      "include_colab_link": true
    },
    "kernelspec": {
      "name": "python3",
      "display_name": "Python 3"
    },
    "language_info": {
      "name": "python"
    }
  },
  "cells": [
    {
      "cell_type": "markdown",
      "metadata": {
        "id": "view-in-github",
        "colab_type": "text"
      },
      "source": [
        "<a href=\"https://colab.research.google.com/github/PrabhuP90/Phyton_Training/blob/main/Day4_Assignment.ipynb\" target=\"_parent\"><img src=\"https://colab.research.google.com/assets/colab-badge.svg\" alt=\"Open In Colab\"/></a>"
      ]
    },
    {
      "cell_type": "code",
      "execution_count": null,
      "metadata": {
        "colab": {
          "base_uri": "https://localhost:8080/"
        },
        "id": "M_Phv8rZk7pn",
        "outputId": "ec144d3b-c756-479e-ce24-de60d69108f5"
      },
      "outputs": [
        {
          "output_type": "stream",
          "name": "stdout",
          "text": [
            "Enter an Integer = 10\n",
            "Enter an Integer = 20\n",
            "Enter an Integer = 30\n",
            "Enter an Integer = 40\n",
            "Enter an Integer = 50\n",
            "The average value is 30.0\n"
          ]
        }
      ],
      "source": [
        "sum = 0\n",
        "i = 0\n",
        "while (i<5):\n",
        "  num = int(input(\"Enter an Integer = \"))\n",
        "  sum = sum + num\n",
        "  avg = sum/5\n",
        "  i += 1\n",
        "print(f\"The average value is {avg}\")\n"
      ]
    },
    {
      "cell_type": "code",
      "source": [
        "num1 = int(input(\"Enter the first number: \"))\n",
        "num2 = int(input(\"Enter the second number: \"))\n",
        "def find_gcd(x, y):\n",
        "  while(y):\n",
        "    x, y = y, (x % y)\n",
        "  return x\n",
        "print(find_gcd(num1, num2))"
      ],
      "metadata": {
        "colab": {
          "base_uri": "https://localhost:8080/"
        },
        "id": "aB3Gn9idlNZq",
        "outputId": "b66def95-98bd-420d-d543-b8264a61baf7"
      },
      "execution_count": null,
      "outputs": [
        {
          "output_type": "stream",
          "name": "stdout",
          "text": [
            "Enter the first number: 60\n",
            "Enter the second number: 36\n",
            "12\n"
          ]
        }
      ]
    },
    {
      "cell_type": "code",
      "source": [
        "num = int(input(\"Enter the number of rows : \"))\n",
        "for i in range(1,num+1):\n",
        "  for j in range(i):\n",
        "    print(i, end=\"\")\n",
        "  print()"
      ],
      "metadata": {
        "colab": {
          "base_uri": "https://localhost:8080/"
        },
        "id": "y-lXER5PlYFZ",
        "outputId": "17d120c2-7a86-4d17-f96f-5a8379f1a6c3"
      },
      "execution_count": null,
      "outputs": [
        {
          "output_type": "stream",
          "name": "stdout",
          "text": [
            "Enter the number of rows : 4\n",
            "1\n",
            "22\n",
            "333\n",
            "4444\n"
          ]
        }
      ]
    },
    {
      "cell_type": "code",
      "source": [
        "num = int(input(\"Enter the number of rows : \"))\n",
        "for i in range(num+1,1,-1):\n",
        "  for j in range(i):\n",
        "    print(\"*\", end=\"\")\n",
        "  print()"
      ],
      "metadata": {
        "colab": {
          "base_uri": "https://localhost:8080/"
        },
        "id": "jIY5ng5ilcFS",
        "outputId": "93ef08b4-3195-4a37-943d-3a0ac38e94fa"
      },
      "execution_count": null,
      "outputs": [
        {
          "output_type": "stream",
          "name": "stdout",
          "text": [
            "Enter the number of rows : 2\n",
            "***\n",
            "**\n"
          ]
        }
      ]
    },
    {
      "cell_type": "code",
      "source": [
        "num1 = [7, 9, 6, 10, 8]\n",
        "print(\"Sorted List (Descending):\",sorted(num1,reverse=True))"
      ],
      "metadata": {
        "colab": {
          "base_uri": "https://localhost:8080/"
        },
        "id": "NOcprZKnlqXb",
        "outputId": "26d87753-25d2-40a7-e546-d9b4c376d2a5"
      },
      "execution_count": null,
      "outputs": [
        {
          "output_type": "stream",
          "name": "stdout",
          "text": [
            "Sorted List (Descending): [10, 9, 8, 7, 6]\n"
          ]
        }
      ]
    },
    {
      "cell_type": "code",
      "source": [
        "name = input(\"Enter your name:\")\n",
        "print(\"Hello, \" + name + \"! Welcome to the program.\")"
      ],
      "metadata": {
        "colab": {
          "base_uri": "https://localhost:8080/"
        },
        "id": "8QDiJN6ImFeT",
        "outputId": "b0e39991-26fa-4242-da27-bf971dcbd207"
      },
      "execution_count": null,
      "outputs": [
        {
          "output_type": "stream",
          "name": "stdout",
          "text": [
            "Enter your name:Alice\n",
            "Hello, Alice! Welcome to the program.\n"
          ]
        }
      ]
    },
    {
      "cell_type": "code",
      "source": [
        "name = input(\"Enter a string: \")\n",
        "print(\"Length of the string: \", len(name))\n",
        "print(\"Data type of the string: \", type(name))"
      ],
      "metadata": {
        "colab": {
          "base_uri": "https://localhost:8080/"
        },
        "id": "myltcF0jmYAv",
        "outputId": "f609d7db-e800-4ae9-dd98-3bc83271f913"
      },
      "execution_count": null,
      "outputs": [
        {
          "output_type": "stream",
          "name": "stdout",
          "text": [
            "Enter a string: Phyton\n",
            "Length of the string:  6\n",
            "Data type of the string:  <class 'str'>\n"
          ]
        }
      ]
    },
    {
      "cell_type": "code",
      "source": [
        "a = input(\"Enter a number:\")\n",
        "print(\"As Integer:\",int(a))\n",
        "print(\"As Float:\",float(a))\n",
        "print(\"As String:\",a)"
      ],
      "metadata": {
        "colab": {
          "base_uri": "https://localhost:8080/"
        },
        "id": "MEamsCG6m08e",
        "outputId": "1ad50a87-c0d1-49eb-d1c8-857696c9f52b"
      },
      "execution_count": null,
      "outputs": [
        {
          "output_type": "stream",
          "name": "stdout",
          "text": [
            "Enter a number:42\n",
            "As Integer: 42\n",
            "As Float: 42.0\n",
            "As String: 42\n"
          ]
        }
      ]
    },
    {
      "cell_type": "code",
      "source": [
        "a = range(1,6)\n",
        "d = {1: 'One', 2: 'Two', 3: 'Three', 4: 'Four', 5: 'Five'}\n",
        "print(\"Sequence: range(1, 6)\")\n",
        "print(\"As List:\",list(a))\n",
        "print(\"As Tuple:\",tuple(a))\n",
        "print(\"As Set:\",set(a))\n",
        "print(\"As Dictionary\",dict(d))"
      ],
      "metadata": {
        "colab": {
          "base_uri": "https://localhost:8080/"
        },
        "id": "ubuEJuoim49R",
        "outputId": "62946796-d91f-4a23-e707-579720973110"
      },
      "execution_count": null,
      "outputs": [
        {
          "output_type": "stream",
          "name": "stdout",
          "text": [
            "Sequence: range(1, 6)\n",
            "As List: [1, 2, 3, 4, 5]\n",
            "As Tuple: (1, 2, 3, 4, 5)\n",
            "As Set: {1, 2, 3, 4, 5}\n",
            "As Dictionary {1: 'One', 2: 'Two', 3: 'Three', 4: 'Four', 5: 'Five'}\n"
          ]
        }
      ]
    },
    {
      "cell_type": "code",
      "source": [
        "a = [1, 2, 3, 4, 5]\n",
        "sum = sum(a)\n",
        "print(\"Sum:\", sum)"
      ],
      "metadata": {
        "colab": {
          "base_uri": "https://localhost:8080/",
          "height": 211
        },
        "id": "hELWeg0wm70h",
        "outputId": "6721abf3-9d4f-42b2-d13e-cdcd872221b3"
      },
      "execution_count": null,
      "outputs": [
        {
          "output_type": "error",
          "ename": "TypeError",
          "evalue": "'int' object is not callable",
          "traceback": [
            "\u001b[0;31m---------------------------------------------------------------------------\u001b[0m",
            "\u001b[0;31mTypeError\u001b[0m                                 Traceback (most recent call last)",
            "\u001b[0;32m<ipython-input-20-cef2995cec6c>\u001b[0m in \u001b[0;36m<cell line: 2>\u001b[0;34m()\u001b[0m\n\u001b[1;32m      1\u001b[0m \u001b[0ma\u001b[0m \u001b[0;34m=\u001b[0m \u001b[0;34m[\u001b[0m\u001b[0;36m1\u001b[0m\u001b[0;34m,\u001b[0m \u001b[0;36m2\u001b[0m\u001b[0;34m,\u001b[0m \u001b[0;36m3\u001b[0m\u001b[0;34m,\u001b[0m \u001b[0;36m4\u001b[0m\u001b[0;34m,\u001b[0m \u001b[0;36m5\u001b[0m\u001b[0;34m]\u001b[0m\u001b[0;34m\u001b[0m\u001b[0;34m\u001b[0m\u001b[0m\n\u001b[0;32m----> 2\u001b[0;31m \u001b[0msum\u001b[0m \u001b[0;34m=\u001b[0m \u001b[0msum\u001b[0m\u001b[0;34m(\u001b[0m\u001b[0ma\u001b[0m\u001b[0;34m)\u001b[0m\u001b[0;34m\u001b[0m\u001b[0;34m\u001b[0m\u001b[0m\n\u001b[0m\u001b[1;32m      3\u001b[0m \u001b[0mprint\u001b[0m\u001b[0;34m(\u001b[0m\u001b[0;34m\"Sum:\"\u001b[0m\u001b[0;34m,\u001b[0m \u001b[0msum\u001b[0m\u001b[0;34m)\u001b[0m\u001b[0;34m\u001b[0m\u001b[0;34m\u001b[0m\u001b[0m\n",
            "\u001b[0;31mTypeError\u001b[0m: 'int' object is not callable"
          ]
        }
      ]
    },
    {
      "cell_type": "code",
      "source": [
        "number = -10.005\n",
        "print(\"Absolute Value:\",abs(number))"
      ],
      "metadata": {
        "colab": {
          "base_uri": "https://localhost:8080/"
        },
        "id": "UYC-bFSunJ2D",
        "outputId": "a3201c0b-1df7-4d28-be07-a9c9ec68fc52"
      },
      "execution_count": null,
      "outputs": [
        {
          "output_type": "stream",
          "name": "stdout",
          "text": [
            "Absolute Value: 10.005\n"
          ]
        }
      ]
    },
    {
      "cell_type": "code",
      "source": [
        "num = float(input(\"Floating-point number: \"))\n",
        "dec = int(input(\"Number of decimal places: \" ))\n",
        "print(\"Rounded Value: \", abs(round(num,dec)))"
      ],
      "metadata": {
        "colab": {
          "base_uri": "https://localhost:8080/"
        },
        "id": "XGWjYVCqn7Fe",
        "outputId": "e37b20dd-5416-4381-8569-60365ab3a76d"
      },
      "execution_count": null,
      "outputs": [
        {
          "output_type": "stream",
          "name": "stdout",
          "text": [
            "Floating-point number: 3.14159\n",
            "Number of decimal places: 2\n",
            "Rounded Value:  3.14\n"
          ]
        }
      ]
    },
    {
      "cell_type": "code",
      "source": [
        "num = [5, 2, 8, 1, 7]\n",
        "print(\"Minimum Value:\",min(num))\n",
        "print(\"Maximum Value:\",max(num))"
      ],
      "metadata": {
        "colab": {
          "base_uri": "https://localhost:8080/"
        },
        "id": "ZGgstHqSoXeU",
        "outputId": "94610734-2631-4790-95c0-041d68b8ec77"
      },
      "execution_count": null,
      "outputs": [
        {
          "output_type": "stream",
          "name": "stdout",
          "text": [
            "Minimum Value: 1\n",
            "Maximum Value: 8\n"
          ]
        }
      ]
    },
    {
      "cell_type": "code",
      "source": [
        "num = [6, 5, 7, 4, 3]\n",
        "print(\"Sorted List:\",sorted(num))"
      ],
      "metadata": {
        "colab": {
          "base_uri": "https://localhost:8080/"
        },
        "id": "wY59I-GnolIP",
        "outputId": "ab320081-c1ce-4caa-d3f8-fb97168a03f1"
      },
      "execution_count": null,
      "outputs": [
        {
          "output_type": "stream",
          "name": "stdout",
          "text": [
            "Sorted List: [3, 4, 5, 6, 7]\n"
          ]
        }
      ]
    }
  ]
}