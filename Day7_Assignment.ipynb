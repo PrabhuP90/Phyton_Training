{
  "nbformat": 4,
  "nbformat_minor": 0,
  "metadata": {
    "colab": {
      "provenance": [],
      "authorship_tag": "ABX9TyPE6UK1+DENnr/OhscmUYvi",
      "include_colab_link": true
    },
    "kernelspec": {
      "name": "python3",
      "display_name": "Python 3"
    },
    "language_info": {
      "name": "python"
    }
  },
  "cells": [
    {
      "cell_type": "markdown",
      "metadata": {
        "id": "view-in-github",
        "colab_type": "text"
      },
      "source": [
        "<a href=\"https://colab.research.google.com/github/PrabhuP90/Phyton_Training/blob/main/Day7_Assignment.ipynb\" target=\"_parent\"><img src=\"https://colab.research.google.com/assets/colab-badge.svg\" alt=\"Open In Colab\"/></a>"
      ]
    },
    {
      "cell_type": "markdown",
      "source": [
        "Question 1:"
      ],
      "metadata": {
        "id": "OW0SSofjVpC4"
      }
    },
    {
      "cell_type": "code",
      "source": [
        "fruits = {'apple', 'banana', 'orange'}\n",
        "print(\"Fruits set:\", fruits)"
      ],
      "metadata": {
        "id": "eRU-YMcPVrqS",
        "colab": {
          "base_uri": "https://localhost:8080/"
        },
        "outputId": "66daeda1-02c8-4e14-dacf-043671b44149"
      },
      "execution_count": null,
      "outputs": [
        {
          "output_type": "stream",
          "name": "stdout",
          "text": [
            "Fruits set: {'orange', 'banana', 'apple'}\n"
          ]
        }
      ]
    },
    {
      "cell_type": "code",
      "source": [
        "fruits.add('grape')\n",
        "print(fruits)"
      ],
      "metadata": {
        "colab": {
          "base_uri": "https://localhost:8080/"
        },
        "id": "O0fEmvLQV0pb",
        "outputId": "9dac5d29-df98-44de-9529-5bc04c641151"
      },
      "execution_count": null,
      "outputs": [
        {
          "output_type": "stream",
          "name": "stdout",
          "text": [
            "{'grape', 'orange', 'banana', 'apple'}\n"
          ]
        }
      ]
    },
    {
      "cell_type": "code",
      "source": [
        "fruits.remove('banana')\n",
        "print(fruits)"
      ],
      "metadata": {
        "colab": {
          "base_uri": "https://localhost:8080/"
        },
        "id": "7Ex66R72WFQE",
        "outputId": "596ddf71-dd17-40d4-e364-af8f743647fa"
      },
      "execution_count": null,
      "outputs": [
        {
          "output_type": "stream",
          "name": "stdout",
          "text": [
            "{'grape', 'orange', 'apple'}\n"
          ]
        }
      ]
    },
    {
      "cell_type": "code",
      "source": [
        "colors = {'red','green','blue'}\n",
        "print(colors)"
      ],
      "metadata": {
        "colab": {
          "base_uri": "https://localhost:8080/"
        },
        "id": "HQKQds1_XMzY",
        "outputId": "a0586883-8224-4e09-b0b0-1b3e2944a876"
      },
      "execution_count": null,
      "outputs": [
        {
          "output_type": "stream",
          "name": "stdout",
          "text": [
            "{'green', 'red', 'blue'}\n"
          ]
        }
      ]
    },
    {
      "cell_type": "code",
      "source": [
        "print(fruits)\n",
        "combined = fruits.union(colors)\n",
        "print(combined)"
      ],
      "metadata": {
        "colab": {
          "base_uri": "https://localhost:8080/"
        },
        "id": "itTP7hJ3c0O_",
        "outputId": "cc99d51e-f893-43ca-d1d8-67ab5d66d3fa"
      },
      "execution_count": null,
      "outputs": [
        {
          "output_type": "stream",
          "name": "stdout",
          "text": [
            "{'grape', 'orange', 'apple'}\n",
            "{'red', 'apple', 'grape', 'green', 'blue', 'orange'}\n"
          ]
        }
      ]
    },
    {
      "cell_type": "code",
      "source": [
        "print(fruits)\n",
        "combined = fruits.difference(colors)\n",
        "print(combined)"
      ],
      "metadata": {
        "colab": {
          "base_uri": "https://localhost:8080/"
        },
        "id": "ZJshC5O1c9sP",
        "outputId": "ca6e6469-4c64-451d-af4c-9b35069a83ee"
      },
      "execution_count": null,
      "outputs": [
        {
          "output_type": "stream",
          "name": "stdout",
          "text": [
            "{'grape', 'orange', 'apple'}\n",
            "{'grape', 'apple', 'orange'}\n"
          ]
        }
      ]
    },
    {
      "cell_type": "code",
      "source": [
        "combined = fruits.union(colors)\n",
        "if(colors.issubset(fruits)):\n",
        "  print(\"Colors set is a subset of Fruits set.\")\n",
        "else:\n",
        "  print(\"Colors set is not a subset of Fruits set.\")\n",
        "\n",
        "if(colors.issubset(combined)):\n",
        "  print(\"Colors set is a subset of combined set.\")\n",
        "else:\n",
        "  print(\"Colors set is not a subset of combined set.\")"
      ],
      "metadata": {
        "colab": {
          "base_uri": "https://localhost:8080/"
        },
        "id": "GwrirzRpdFnq",
        "outputId": "41d0774f-d4e1-442c-a806-9a947afb6871"
      },
      "execution_count": null,
      "outputs": [
        {
          "output_type": "stream",
          "name": "stdout",
          "text": [
            "Colors set is not a subset of Fruits set.\n",
            "Colors set is a subset of combined set.\n"
          ]
        }
      ]
    },
    {
      "cell_type": "code",
      "source": [
        "student = {'name':'Alice','age': 15,'grade':'A'}\n",
        "print(student)"
      ],
      "metadata": {
        "colab": {
          "base_uri": "https://localhost:8080/"
        },
        "id": "cIsDoduviZlN",
        "outputId": "58f4a587-d4c5-4414-8078-8e0c56c49276"
      },
      "execution_count": null,
      "outputs": [
        {
          "output_type": "stream",
          "name": "stdout",
          "text": [
            "{'name': 'Alice', 'age': 15, 'grade': 'A'}\n"
          ]
        }
      ]
    },
    {
      "cell_type": "code",
      "source": [
        "print(\"Age:\",student['age'])"
      ],
      "metadata": {
        "colab": {
          "base_uri": "https://localhost:8080/"
        },
        "id": "mVWtf4_yjLCu",
        "outputId": "1a4ded43-b363-4d76-e98e-d61ae0322bd3"
      },
      "execution_count": null,
      "outputs": [
        {
          "output_type": "stream",
          "name": "stdout",
          "text": [
            "Age: 15\n"
          ]
        }
      ]
    },
    {
      "cell_type": "code",
      "source": [
        "print(student)\n",
        "student['grade'] = 'B'\n",
        "print(student)"
      ],
      "metadata": {
        "colab": {
          "base_uri": "https://localhost:8080/"
        },
        "id": "ZWl8Gdxlju1Q",
        "outputId": "848a3db0-14a9-4bf4-e7ba-c0415fee6282"
      },
      "execution_count": null,
      "outputs": [
        {
          "output_type": "stream",
          "name": "stdout",
          "text": [
            "{'name': 'Alice', 'age': 15, 'grade': 'A'}\n",
            "{'name': 'Alice', 'age': 15, 'grade': 'B'}\n"
          ]
        }
      ]
    },
    {
      "cell_type": "code",
      "source": [
        "print(student.keys())"
      ],
      "metadata": {
        "colab": {
          "base_uri": "https://localhost:8080/"
        },
        "id": "mVLE0n_QkIbX",
        "outputId": "0f316fb2-4306-4857-f92c-7be0a66e6edb"
      },
      "execution_count": null,
      "outputs": [
        {
          "output_type": "stream",
          "name": "stdout",
          "text": [
            "dict_keys(['name', 'age', 'grade'])\n"
          ]
        }
      ]
    },
    {
      "cell_type": "code",
      "source": [
        "print(student.values())"
      ],
      "metadata": {
        "colab": {
          "base_uri": "https://localhost:8080/"
        },
        "id": "HBu4dyiRkQK6",
        "outputId": "a56a826c-63b6-4cba-a072-82bfcd0a799d"
      },
      "execution_count": null,
      "outputs": [
        {
          "output_type": "stream",
          "name": "stdout",
          "text": [
            "dict_values(['Alice', 15, 'B'])\n"
          ]
        }
      ]
    },
    {
      "cell_type": "code",
      "source": [
        "print(student.items())"
      ],
      "metadata": {
        "colab": {
          "base_uri": "https://localhost:8080/"
        },
        "id": "DsocSKyakVEv",
        "outputId": "bef8094e-3b52-4753-f1f8-7b50bceaba25"
      },
      "execution_count": null,
      "outputs": [
        {
          "output_type": "stream",
          "name": "stdout",
          "text": [
            "dict_items([('name', 'Alice'), ('age', 15), ('grade', 'B')])\n"
          ]
        }
      ]
    },
    {
      "cell_type": "code",
      "source": [
        "if('grade' in student):\n",
        "  print(\"'grade' is present in the dictionary.\")\n",
        "else:\n",
        "  print(\"'grade' is not present in the dictionary.\")"
      ],
      "metadata": {
        "colab": {
          "base_uri": "https://localhost:8080/"
        },
        "id": "jDfZp-jEkbnH",
        "outputId": "6b0378ad-af24-4c8d-a29d-4768c414d552"
      },
      "execution_count": null,
      "outputs": [
        {
          "output_type": "stream",
          "name": "stdout",
          "text": [
            "'grade' is present in the dictionary.\n"
          ]
        }
      ]
    }
  ]
}