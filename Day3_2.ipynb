{
  "nbformat": 4,
  "nbformat_minor": 0,
  "metadata": {
    "colab": {
      "provenance": [],
      "authorship_tag": "ABX9TyPz9EWvPai7L/yJvJNmsg3y",
      "include_colab_link": true
    },
    "kernelspec": {
      "name": "python3",
      "display_name": "Python 3"
    },
    "language_info": {
      "name": "python"
    }
  },
  "cells": [
    {
      "cell_type": "markdown",
      "metadata": {
        "id": "view-in-github",
        "colab_type": "text"
      },
      "source": [
        "<a href=\"https://colab.research.google.com/github/PrabhuP90/Phyton_Training/blob/main/Day3_2.ipynb\" target=\"_parent\"><img src=\"https://colab.research.google.com/assets/colab-badge.svg\" alt=\"Open In Colab\"/></a>"
      ]
    },
    {
      "cell_type": "code",
      "execution_count": null,
      "metadata": {
        "colab": {
          "base_uri": "https://localhost:8080/"
        },
        "id": "NioPgcUspbTk",
        "outputId": "687c9677-decc-4f3e-a679-f1a165cff6ca"
      },
      "outputs": [
        {
          "output_type": "stream",
          "name": "stdout",
          "text": [
            "True\n"
          ]
        }
      ],
      "source": [
        "obj1 = \"Hello\"\n",
        "obj2 = \"Hello World\"\n",
        "print(obj1 in obj2)"
      ]
    },
    {
      "cell_type": "code",
      "source": [
        "num = int(input(\"Enter a non negative interger : \"))\n",
        "fact = 1\n",
        "if num < 0:\n",
        "   print(\"Enter a Positive Integer\")\n",
        "elif num == 0:\n",
        "   print(\"factorial of 0 is 1\")\n",
        "else:\n",
        "  for n in range(1,num + 1):\n",
        "      fact = fact * n\n",
        "  print(\"The factorial of\",num,\"is\",fact)"
      ],
      "metadata": {
        "colab": {
          "base_uri": "https://localhost:8080/"
        },
        "id": "lo-R-GeNqj0U",
        "outputId": "4c697d6e-bf06-48f7-bd3f-c38e4d43d506"
      },
      "execution_count": null,
      "outputs": [
        {
          "output_type": "stream",
          "name": "stdout",
          "text": [
            "Enter a non negative interger : 7\n",
            "The factorial of 7 is 5040\n"
          ]
        }
      ]
    },
    {
      "cell_type": "code",
      "source": [
        "num1 = 5\n",
        "num2 = 10\n",
        "if(num1>num2):\n",
        "  print(num1,\" is greater than \",num2)\n",
        "else:\n",
        "  print(num2,\" is greater than \",num1)"
      ],
      "metadata": {
        "colab": {
          "base_uri": "https://localhost:8080/"
        },
        "id": "aPKC3BZZqvAW",
        "outputId": "b8b40443-5d2a-421d-ada3-2cfafbcb7dfe"
      },
      "execution_count": null,
      "outputs": [
        {
          "output_type": "stream",
          "name": "stdout",
          "text": [
            "10  is greater than  5\n"
          ]
        }
      ]
    },
    {
      "cell_type": "code",
      "source": [
        "num = int(input(\"Enter a number :\"))\n",
        "if(num % 2 == 0):\n",
        "  print(\"The number is even\")\n",
        "else:\n",
        "  print(\"The number is odd\")"
      ],
      "metadata": {
        "colab": {
          "base_uri": "https://localhost:8080/"
        },
        "id": "0J9zBnScrPkC",
        "outputId": "6511baae-3620-40a0-b594-587e48dc44b8"
      },
      "execution_count": null,
      "outputs": [
        {
          "output_type": "stream",
          "name": "stdout",
          "text": [
            "Enter a number :5\n",
            "The number is odd\n"
          ]
        }
      ]
    },
    {
      "cell_type": "code",
      "source": [
        "year = int(input(\"Enter a year = \"))\n",
        "if(year%4 != 0):\n",
        "  print(f\"{year} Is not a leap year\")\n",
        "elif(year%100 == 0 ) and (year%400 != 0 ):\n",
        "  print(f\"{year} Is not a leap year\")\n",
        "elif(year%400 == 0 ):\n",
        "  print(f\"{year} Is a leap year\")\n",
        "else:\n",
        "  print(f\"{year} Is a leap year\")"
      ],
      "metadata": {
        "colab": {
          "base_uri": "https://localhost:8080/"
        },
        "id": "RdCO88uWrmcR",
        "outputId": "7956588c-8182-4961-894b-c80da113ce12"
      },
      "execution_count": null,
      "outputs": [
        {
          "output_type": "stream",
          "name": "stdout",
          "text": [
            "Enter a year = 1802\n",
            "1802 Is not a leap year\n"
          ]
        }
      ]
    },
    {
      "cell_type": "code",
      "source": [
        "score = int(input(\"Enter your exam score :\"))\n",
        "if(score>50):\n",
        "  print(\"Congratulations! You have passed\")\n",
        "else:\n",
        "    print(\"Sorry,you have failed.Better luck next time\")"
      ],
      "metadata": {
        "colab": {
          "base_uri": "https://localhost:8080/"
        },
        "id": "Uf9hyiOtrzOv",
        "outputId": "e6e608fd-74c3-4ae8-f604-4a5260c30def"
      },
      "execution_count": null,
      "outputs": [
        {
          "output_type": "stream",
          "name": "stdout",
          "text": [
            "Enter your exam score :75\n",
            "Congratulations! You have passed\n"
          ]
        }
      ]
    },
    {
      "cell_type": "code",
      "source": [
        "num = int(input(\"Enter a number :\"))\n",
        "if(num==0):\n",
        "  print(\"Zero\")\n",
        "elif(num>0):\n",
        "  print(\"Positive\")\n",
        "else:\n",
        "  print(\"Negative\")"
      ],
      "metadata": {
        "colab": {
          "base_uri": "https://localhost:8080/"
        },
        "id": "Sxn4DbjAsgYc",
        "outputId": "c78a93cf-ac24-4720-e706-078693e256fa"
      },
      "execution_count": null,
      "outputs": [
        {
          "output_type": "stream",
          "name": "stdout",
          "text": [
            "Enter a number :5\n",
            "Positive\n"
          ]
        }
      ]
    },
    {
      "cell_type": "code",
      "source": [
        "num = int(input(\"Enter a postive integer = \"))\n",
        "print(f\"Multiplication table for {num}\")\n",
        "for n in range(1,6):\n",
        "  print(num,\"x\",n,\" =\",num*n )"
      ],
      "metadata": {
        "colab": {
          "base_uri": "https://localhost:8080/"
        },
        "id": "Vl1frD5itEzy",
        "outputId": "b353fb5c-1f2f-4573-d390-69ea2e202fab"
      },
      "execution_count": null,
      "outputs": [
        {
          "output_type": "stream",
          "name": "stdout",
          "text": [
            "Enter a postive integer = 5\n",
            "Multiplication table for 5\n",
            "5 x 1  = 5\n",
            "5 x 2  = 10\n",
            "5 x 3  = 15\n",
            "5 x 4  = 20\n",
            "5 x 5  = 25\n"
          ]
        }
      ]
    }
  ]
}