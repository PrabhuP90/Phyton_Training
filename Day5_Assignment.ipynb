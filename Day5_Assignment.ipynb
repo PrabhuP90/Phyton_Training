{
  "nbformat": 4,
  "nbformat_minor": 0,
  "metadata": {
    "colab": {
      "provenance": [],
      "authorship_tag": "ABX9TyOAp9pcCyEc4oQX2nGU+oXD",
      "include_colab_link": true
    },
    "kernelspec": {
      "name": "python3",
      "display_name": "Python 3"
    },
    "language_info": {
      "name": "python"
    }
  },
  "cells": [
    {
      "cell_type": "markdown",
      "metadata": {
        "id": "view-in-github",
        "colab_type": "text"
      },
      "source": [
        "<a href=\"https://colab.research.google.com/github/PrabhuP90/Phyton_Training/blob/main/Day5_Assignment.ipynb\" target=\"_parent\"><img src=\"https://colab.research.google.com/assets/colab-badge.svg\" alt=\"Open In Colab\"/></a>"
      ]
    },
    {
      "cell_type": "code",
      "source": [
        "def square(a):\n",
        "  b = a**2\n",
        "  print(\"The square of\",a, \"is\" , b)\n",
        "num = int(input(\"Enter a number : \"))\n",
        "square(num)"
      ],
      "metadata": {
        "colab": {
          "base_uri": "https://localhost:8080/"
        },
        "id": "bxfVt4LpXzBI",
        "outputId": "5690d4c0-b65a-49ca-87bb-a71933cb5544"
      },
      "execution_count": null,
      "outputs": [
        {
          "output_type": "stream",
          "name": "stdout",
          "text": [
            "Enter a number : 5\n",
            "The square of 5 is 25\n"
          ]
        }
      ]
    },
    {
      "cell_type": "code",
      "source": [
        "def greet(a, b=\"Hi\"):\n",
        "  print(b,\",\" ,a, \"!\")\n",
        "name = input(\"Enter a name : \")\n",
        "greet(name)"
      ],
      "metadata": {
        "colab": {
          "base_uri": "https://localhost:8080/"
        },
        "id": "xymA7HFZX3E-",
        "outputId": "ba3d3062-5bcd-4b83-9be9-c2910ae3924f"
      },
      "execution_count": null,
      "outputs": [
        {
          "output_type": "stream",
          "name": "stdout",
          "text": [
            "Enter a name : Alice\n",
            "Hi , Alice !\n"
          ]
        }
      ]
    },
    {
      "cell_type": "code",
      "source": [
        "def add(a,b):\n",
        "  c=a+b\n",
        "  print(\"The sum of\", a,\"and\", b, \"is\", c)\n",
        "\n",
        "num1 = int(input(\"Enter the first number: \"))\n",
        "num2 = int(input(\"Enter the Second number: \"))\n",
        "add(num1,num2)"
      ],
      "metadata": {
        "colab": {
          "base_uri": "https://localhost:8080/"
        },
        "id": "kTxl5wnEX5UI",
        "outputId": "42c7973a-33a2-4a36-da3d-29c5b153b111"
      },
      "execution_count": null,
      "outputs": [
        {
          "output_type": "stream",
          "name": "stdout",
          "text": [
            "Enter the first number: 50\n",
            "Enter the Second number: 60\n",
            "The sum of 50 and 60 is 110\n"
          ]
        }
      ]
    },
    {
      "cell_type": "code",
      "source": [
        "def power(a,b):\n",
        "  c=a**b\n",
        "  print(a,\"raised to power of \", b, \"is\", c)\n",
        "num1 = int(input(\"Enter the base: \"))\n",
        "num2 = int(input(\"Enter the exponent: \"))\n",
        "power(num1,num2)"
      ],
      "metadata": {
        "colab": {
          "base_uri": "https://localhost:8080/"
        },
        "id": "hgylvI7hX_W1",
        "outputId": "4ed682a6-856a-4d27-a913-f46ae96b89a6"
      },
      "execution_count": null,
      "outputs": [
        {
          "output_type": "stream",
          "name": "stdout",
          "text": [
            "Enter the base: 2\n",
            "Enter the exponent: 3\n",
            "2 raised to power of  3 is 8\n"
          ]
        }
      ]
    },
    {
      "cell_type": "code",
      "source": [
        "def calculate_area(a,b =1):\n",
        "  c=a*b\n",
        "  print(\"The area of the rectangle is \", c)\n",
        "num1 = int(input(\"Enter the length: \"))\n",
        "num2 = input(\"Enter the width (press Enter to use default value): \")\n",
        "calculate_area(num1)"
      ],
      "metadata": {
        "colab": {
          "base_uri": "https://localhost:8080/"
        },
        "id": "vE-Mxm6RYDG9",
        "outputId": "0fe464da-7108-4f99-83c5-5ad4b40dc11d"
      },
      "execution_count": null,
      "outputs": [
        {
          "output_type": "stream",
          "name": "stdout",
          "text": [
            "Enter the length: 10\n",
            "Enter the width (press Enter to use default value): \n",
            "The area of the rectangle is  10\n"
          ]
        }
      ]
    },
    {
      "cell_type": "code",
      "source": [
        "def greet_person(name,greet,b =\"Hello\"):\n",
        "   if(len(greet)==0):\n",
        "      print(b,\",\" ,name, \"!\")\n",
        "   else:\n",
        "      print(greet,\",\" ,name, \"!\")\n",
        "i=0\n",
        "while i<2:\n",
        "    n = input(\"Enter a name : \")\n",
        "    new_wish = input(\"Enter a custom greeting (press Enter for default): \")\n",
        "    greet_person(name = n, greet = new_wish)\n",
        "    i+=1"
      ],
      "metadata": {
        "colab": {
          "base_uri": "https://localhost:8080/"
        },
        "id": "Xfovz1gOYHeg",
        "outputId": "fa13dd60-8ecf-4b36-c11d-cdaf0b125de6"
      },
      "execution_count": null,
      "outputs": [
        {
          "output_type": "stream",
          "name": "stdout",
          "text": [
            "Enter a name : Alice\n",
            "Enter a custom greeting (press Enter for default): \n",
            "Hello , Alice !\n",
            "Enter a name : Bob\n",
            "Enter a custom greeting (press Enter for default): Hi there\n",
            "Hi there , Bob !\n"
          ]
        }
      ]
    },
    {
      "cell_type": "markdown",
      "source": [
        "*Keyword* Arguments"
      ],
      "metadata": {
        "id": "L6JE7lAAYRcA"
      }
    },
    {
      "cell_type": "code",
      "source": [
        "def person_info(n,a,c):\n",
        "  print(\"Personal Information:\")\n",
        "  print(\"Name:\",n)\n",
        "  print(\"Age:\",a)\n",
        "  print(\"Country:\",c)\n",
        "\n",
        "name_ip = input(\"Enter the name: \")\n",
        "age_ip = input(\"Enter the age: \")\n",
        "country_ip = input(\"Enter the country: \")\n",
        "person_info(n=name_ip,a=age_ip,c=country_ip)"
      ],
      "metadata": {
        "colab": {
          "base_uri": "https://localhost:8080/"
        },
        "id": "DfuhWvFcYQHn",
        "outputId": "e213e918-4256-40c3-d2cb-4c4379541c6b"
      },
      "execution_count": null,
      "outputs": [
        {
          "output_type": "stream",
          "name": "stdout",
          "text": [
            "Enter the name: Alice\n",
            "Enter the age: 16\n",
            "Enter the country: India\n",
            "Personal Information:\n",
            "Name: Alice\n",
            "Age: 16\n",
            "Country: India\n"
          ]
        }
      ]
    },
    {
      "cell_type": "code",
      "source": [
        "def calculate_interest(p,r,t):\n",
        "  si = (p*r*t)/100\n",
        "  print(\"The simple interest is:\",si)\n",
        "\n",
        "principal = int(input(\"Enter the principal amount: \"))\n",
        "rate = int(input(\"Enter the rate of interest: \"))\n",
        "time = int(input(\"Enter the time: \"))\n",
        "calculate_interest(p=principal,r=rate,t=time)"
      ],
      "metadata": {
        "colab": {
          "base_uri": "https://localhost:8080/"
        },
        "id": "TD2b_h25YcKx",
        "outputId": "d4b99f3c-a34e-44d2-d43f-360f93e7a272"
      },
      "execution_count": null,
      "outputs": [
        {
          "output_type": "stream",
          "name": "stdout",
          "text": [
            "Enter the principal amount: 1000\n",
            "Enter the rate of interest: 5\n",
            "Enter the time: 2\n",
            "The simple interest is: 100.0\n"
          ]
        }
      ]
    },
    {
      "cell_type": "markdown",
      "source": [
        "Arbitrary Arguments"
      ],
      "metadata": {
        "id": "vxIzMH3-YhuW"
      }
    },
    {
      "cell_type": "code",
      "source": [
        "#Trail 1\n",
        "num = input(\"Enter numbers separated by space: \")\n",
        "num_list  = num.split()\n",
        "print(num_list)\n",
        "sum = 0\n",
        "for i in range(len(num_list)):\n",
        "    num_list[i] = int(num_list[i])\n",
        "    sum = sum + num_list[i]\n",
        "\n",
        "print(\"The sum of the numbers is: \", sum)"
      ],
      "metadata": {
        "colab": {
          "base_uri": "https://localhost:8080/"
        },
        "id": "KZE2oaKhYqYJ",
        "outputId": "f17ffb69-99fb-4947-a1d9-f1feb962a8b8"
      },
      "execution_count": null,
      "outputs": [
        {
          "output_type": "stream",
          "name": "stdout",
          "text": [
            "Enter numbers separated by space: 1 2 3\n",
            "['1', '2', '3']\n",
            "The sum of the numbers is:  6\n"
          ]
        }
      ]
    },
    {
      "cell_type": "code",
      "source": [
        "#Trail 2\n",
        "def sum_all(a):\n",
        "  print(a)\n",
        "  total = 0\n",
        "  for i in a:\n",
        "    total += i\n",
        "  print(\"The sum of the numbers is: \",total)\n",
        "\n",
        "num = input(\"Enter numbers separated by space: \")\n",
        "num_list = [int(x) for x in num.split()]\n",
        "sum = sum_all(num_list)"
      ],
      "metadata": {
        "colab": {
          "base_uri": "https://localhost:8080/"
        },
        "id": "tGxWzlBbYs6r",
        "outputId": "57515cad-9a27-410e-cb09-ebde6d9315ce"
      },
      "execution_count": null,
      "outputs": [
        {
          "output_type": "stream",
          "name": "stdout",
          "text": [
            "Enter numbers separated by space: 1 2 3\n",
            "[1, 2, 3]\n",
            "The sum of the numbers is:  6\n"
          ]
        }
      ]
    },
    {
      "cell_type": "code",
      "source": [
        "def sum_all(*a):\n",
        "  print(a)\n",
        "  total = 0\n",
        "  for i in a:\n",
        "    for j in i:\n",
        "      total += j\n",
        "  print(\"The sum of the numbers is: \",total)\n",
        "\n",
        "num = input(\"Enter numbers separated by space: \")\n",
        "num_list = [int(x) for x in num.split()]\n",
        "sum = sum_all(num_list)"
      ],
      "metadata": {
        "colab": {
          "base_uri": "https://localhost:8080/"
        },
        "id": "CsiqTdQRZOpT",
        "outputId": "2ea61d53-029a-4022-8599-07d86f8f3694"
      },
      "execution_count": null,
      "outputs": [
        {
          "output_type": "stream",
          "name": "stdout",
          "text": [
            "Enter numbers separated by space: 10 20 40 50\n",
            "([10, 20, 40, 50],)\n",
            "The sum of the numbers is:  120\n"
          ]
        }
      ]
    },
    {
      "cell_type": "markdown",
      "source": [
        "Q10"
      ],
      "metadata": {
        "id": "njmtxHrYYkSq"
      }
    },
    {
      "cell_type": "code",
      "source": [
        "def print_items(*a):\n",
        "  print(\"Items: \")\n",
        "  for i in a:\n",
        "      for j in i:\n",
        "        print(j,end='\\n')\n",
        "\n",
        "in_items = input(\"Enter items separated by space: \")\n",
        "in_list = [x for x in in_items.split()]\n",
        "print_items(in_list)"
      ],
      "metadata": {
        "colab": {
          "base_uri": "https://localhost:8080/"
        },
        "id": "rro5745-Yms2",
        "outputId": "a4816ce5-f8ce-475f-bcc6-349ac142ae82"
      },
      "execution_count": null,
      "outputs": [
        {
          "output_type": "stream",
          "name": "stdout",
          "text": [
            "Enter items separated by space: Apple Banana Orange\n",
            "Items: \n",
            "Apple\n",
            "Banana\n",
            "Orange\n"
          ]
        }
      ]
    },
    {
      "cell_type": "code",
      "source": [
        "def person_info(n,a,c):\n",
        "  print(\"Personal Information:\")\n",
        "  print(\"Name:\",n,\"Age:\",a,\"Country:\",c)\n",
        "\n",
        "info_ip = input(\"Enter name, age, and country separated by space: \")\n",
        "print(info_ip)\n",
        "info = [x for x in info_ip.split()]\n",
        "print(info)\n",
        "person_info(*info)\n"
      ],
      "metadata": {
        "colab": {
          "base_uri": "https://localhost:8080/"
        },
        "id": "iHTCzU2Dpje7",
        "outputId": "481ea993-5136-414c-a80d-26422124ce07"
      },
      "execution_count": null,
      "outputs": [
        {
          "output_type": "stream",
          "name": "stdout",
          "text": [
            "Enter name, age, and country separated by space: Alice 16 India\n",
            "Alice 16 India\n",
            "['Alice', '16', 'India']\n",
            "Personal Information:\n",
            "Name: Alice Age: 16 Country: India\n"
          ]
        }
      ]
    },
    {
      "cell_type": "code",
      "source": [
        "def product(*a):\n",
        "  ans = 1\n",
        "  for i in a:\n",
        "    for j in i:\n",
        "      ans *= j\n",
        "  print(\"Product: \",ans)\n",
        "\n",
        "info_ip = input(\"Enter three numbers separated by space: \")\n",
        "info = [int(x) for x in info_ip.split()]\n",
        "product(info)"
      ],
      "metadata": {
        "colab": {
          "base_uri": "https://localhost:8080/"
        },
        "id": "DB0jTg9grVm6",
        "outputId": "e4cc1560-dd56-457c-d42a-26bb2cf40cb3"
      },
      "execution_count": null,
      "outputs": [
        {
          "output_type": "stream",
          "name": "stdout",
          "text": [
            "Enter three numbers separated by space: 2 3 4\n",
            "Product:  24\n"
          ]
        }
      ]
    },
    {
      "cell_type": "code",
      "source": [
        "def is_even(a):\n",
        "  if(a%2==0):\n",
        "    return True\n",
        "  else:\n",
        "    return False\n",
        "\n",
        "ip = int(input(\"Enter a number: \"))\n",
        "print(is_even(ip))"
      ],
      "metadata": {
        "colab": {
          "base_uri": "https://localhost:8080/"
        },
        "id": "En38jh9QsPVt",
        "outputId": "2000ae03-93d4-454f-f7a4-3985d9573e57"
      },
      "execution_count": null,
      "outputs": [
        {
          "output_type": "stream",
          "name": "stdout",
          "text": [
            "Enter a number: 7\n",
            "False\n"
          ]
        }
      ]
    },
    {
      "cell_type": "code",
      "source": [
        "def is_vowel(a):\n",
        "  vowel = 'aeiouAEIOU'\n",
        "  if(a in vowel):\n",
        "    return True\n",
        "  else:\n",
        "    return False\n",
        "\n",
        "ip = input(\"Enter a character: \")\n",
        "print(is_vowel(ip))"
      ],
      "metadata": {
        "colab": {
          "base_uri": "https://localhost:8080/"
        },
        "id": "Q1reBhMds_0Y",
        "outputId": "05cd5deb-c4ff-4819-fdb3-63f46d4aed1b"
      },
      "execution_count": null,
      "outputs": [
        {
          "output_type": "stream",
          "name": "stdout",
          "text": [
            "Enter a character: g\n",
            "False\n"
          ]
        }
      ]
    },
    {
      "cell_type": "code",
      "source": [
        "def split_name(a):\n",
        "  info = [x for x in a.split()]\n",
        "  return info\n",
        "info_ip = input(\"Enter a full name: \")\n",
        "print(split_name(info_ip))"
      ],
      "metadata": {
        "colab": {
          "base_uri": "https://localhost:8080/"
        },
        "id": "o83S7Bz-vWIM",
        "outputId": "9bdb7cb7-1bf3-4f0f-c7af-d47acb541ec8"
      },
      "execution_count": null,
      "outputs": [
        {
          "output_type": "stream",
          "name": "stdout",
          "text": [
            "Enter a full name: John Doe\n",
            "['John', 'Doe']\n"
          ]
        }
      ]
    },
    {
      "cell_type": "code",
      "source": [
        "def perform_operation(a,b,cond):\n",
        "  if(cond==\"add\"):\n",
        "    c=a+b\n",
        "    return c\n",
        "  elif(cond==\"subtract\"):\n",
        "    c=a-b\n",
        "    return c\n",
        "  elif(cond==\"multiply\"):\n",
        "    c=a*b\n",
        "    return c\n",
        "  elif(cond==\"divide\"):\n",
        "    c=a/b\n",
        "    return c\n",
        "  else:\n",
        "    return \"Invalid\"\n",
        "num1 = int(input(\"Enter the first number: \"))\n",
        "num2 = int(input(\"Enter the second number: \"))\n",
        "oper = input(\"Enter the operation ('add', 'subtract', 'multiply', 'divide'): \")\n",
        "print(\"Result\",perform_operation(num1, num2, oper))"
      ],
      "metadata": {
        "colab": {
          "base_uri": "https://localhost:8080/"
        },
        "id": "wGCfpGRw205e",
        "outputId": "82ca4c1a-00f6-468e-bbb6-e797aaa424e5"
      },
      "execution_count": null,
      "outputs": [
        {
          "output_type": "stream",
          "name": "stdout",
          "text": [
            "Enter the first number: 10\n",
            "Enter the second number: 5\n",
            "Enter the operation ('add', 'subtract', 'multiply', 'divide'): multiply\n",
            "Result 50\n"
          ]
        }
      ]
    },
    {
      "cell_type": "code",
      "source": [
        "num1 = int(input(\"Enter a number: \"))\n",
        "square = lambda a:a*a\n",
        "print(\"Square:\", square(num1))"
      ],
      "metadata": {
        "colab": {
          "base_uri": "https://localhost:8080/"
        },
        "id": "-3ls13RU4kVa",
        "outputId": "ce864198-cc5e-4529-c496-2372c07e6f42"
      },
      "execution_count": null,
      "outputs": [
        {
          "output_type": "stream",
          "name": "stdout",
          "text": [
            "Enter a number: 5\n",
            "Square: 25\n"
          ]
        }
      ]
    },
    {
      "cell_type": "markdown",
      "source": [
        "Question 18:\n",
        "Write a Python function named fi lter_even that takes a list of numbers and a lambda function asarguments. The lambda function should be used to fi lter out even numbers from the list.\n",
        "Algorithm:\n",
        "Defi ne a function fi lter_even() that takes a list and a lambda function.\n",
        "Use the fi lter() function along with the lambda function to fi lter out even numbers.\n",
        "Sample Input:\n",
        "Enter a list of numbers (comma-separated): 1, 2, 3, 4, 5, 6\n",
        "Sample Output:\n",
        "Even Numbers: [2, 4, 6]"
      ],
      "metadata": {
        "id": "GXV1hKtQmnFj"
      }
    },
    {
      "cell_type": "code",
      "source": [
        "def filter_even(even,*a):\n",
        "  list=[]\n",
        "  for i in a:\n",
        "    if(even(i) == 0):\n",
        "      list.append(i)\n",
        "  print(\"Even Numbers: \",list)\n",
        "\n",
        "get = input(\"Enter a list of numbers (comma-separated): \")\n",
        "ip = [int(x) for x in get.split(\",\")]\n",
        "even = lambda x: x % 2\n",
        "filter_even(even,*ip)"
      ],
      "metadata": {
        "colab": {
          "base_uri": "https://localhost:8080/"
        },
        "id": "14K5Vs8_6ZaC",
        "outputId": "998b022f-b402-4459-dd66-6e1851af47cd"
      },
      "execution_count": 23,
      "outputs": [
        {
          "output_type": "stream",
          "name": "stdout",
          "text": [
            "Enter a list of numbers (comma-separated): 1,2,3,4,5,6\n",
            "Even Numbers:  [2, 4, 6]\n"
          ]
        }
      ]
    }
  ]
}