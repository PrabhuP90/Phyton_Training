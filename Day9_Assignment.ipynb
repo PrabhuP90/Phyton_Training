{
  "nbformat": 4,
  "nbformat_minor": 0,
  "metadata": {
    "colab": {
      "provenance": [],
      "authorship_tag": "ABX9TyNqbt5g0G/66PM+YiBaTUHP",
      "include_colab_link": true
    },
    "kernelspec": {
      "name": "python3",
      "display_name": "Python 3"
    },
    "language_info": {
      "name": "python"
    }
  },
  "cells": [
    {
      "cell_type": "markdown",
      "metadata": {
        "id": "view-in-github",
        "colab_type": "text"
      },
      "source": [
        "<a href=\"https://colab.research.google.com/github/PrabhuP90/Phyton_Training/blob/main/Day9_Assignment.ipynb\" target=\"_parent\"><img src=\"https://colab.research.google.com/assets/colab-badge.svg\" alt=\"Open In Colab\"/></a>"
      ]
    },
    {
      "cell_type": "code",
      "execution_count": null,
      "metadata": {
        "colab": {
          "base_uri": "https://localhost:8080/"
        },
        "id": "u1tBuYJPmVpC",
        "outputId": "f281db3f-b52b-4cee-d374-e92591324032"
      },
      "outputs": [
        {
          "output_type": "stream",
          "name": "stdout",
          "text": [
            "Car Information\n",
            "Brand: : Toyota\n",
            "Model : Camry\n",
            "Car Information\n",
            "Brand: : Toyota\n",
            "Model : Glanza\n"
          ]
        }
      ],
      "source": [
        "class Car:\n",
        "  def __init__(self,brand,model):\n",
        "    self.brand = brand\n",
        "    self.model = model\n",
        "\n",
        "  def display_info(self):\n",
        "    print(\"Car Information\")\n",
        "    print(\"Brand: :\", self.brand)\n",
        "    print(\"Model :\", self.model)\n",
        "\n",
        "Car1 = Car(\"Toyota\", \"Camry\")\n",
        "Car1.display_info()\n",
        "Car2 = Car(\"Toyota\", \"Glanza\")\n",
        "Car2.display_info()"
      ]
    },
    {
      "cell_type": "code",
      "source": [
        "class Book:\n",
        "  def __init__(self,title,author):\n",
        "    self.title = title\n",
        "    self.author = author\n",
        "\n",
        "  def display_info(self):\n",
        "    print(\"Book Information\")\n",
        "    print(\"Title: :\", self.title)\n",
        "    print(\"Author :\", self.author)\n",
        "\n",
        "Book1 = Book(\"The Catcher in the Rye\", \"J.D. Salinger\")\n",
        "Book1.display_info()\n",
        "Book2 = Book(\"To Kill a Mockingbird\", \"Harper Lee\")\n",
        "Book2.display_info()\n"
      ],
      "metadata": {
        "colab": {
          "base_uri": "https://localhost:8080/"
        },
        "id": "qhWJQDV8nUS4",
        "outputId": "9bb0d980-d894-490a-8d37-2008ffc6b93d"
      },
      "execution_count": null,
      "outputs": [
        {
          "output_type": "stream",
          "name": "stdout",
          "text": [
            "Book Information\n",
            "Title: : The Catcher in the Rye\n",
            "Author : J.D. Salinger\n",
            "Book Information\n",
            "Title: : To Kill a Mockingbird\n",
            "Author : Harper Lee\n"
          ]
        }
      ]
    },
    {
      "cell_type": "code",
      "source": [
        "class Person:\n",
        "  def __init__(self,name):\n",
        "    self.name = name\n",
        "\n",
        "  def display_info(self):\n",
        "    print(\"Person Information\")\n",
        "    print(\"Species: :\", species)\n",
        "    print(\"Name :\", self.name)\n",
        "\n",
        "species = \"Human\"\n",
        "person1 = Person(\"Alice\")\n",
        "person1.display_info()"
      ],
      "metadata": {
        "colab": {
          "base_uri": "https://localhost:8080/"
        },
        "id": "uuVvBGhSoSOh",
        "outputId": "aa38c3c4-52a6-4514-88c2-8fbc93557c53"
      },
      "execution_count": null,
      "outputs": [
        {
          "output_type": "stream",
          "name": "stdout",
          "text": [
            "Person Information\n",
            "Species: : Human\n",
            "Name : Alice\n"
          ]
        }
      ]
    },
    {
      "cell_type": "code",
      "source": [
        "class Person:\n",
        "  def __init__(self,name,age):\n",
        "    self.name = name\n",
        "    self.age = age\n",
        "\n",
        "  def display_info(self):\n",
        "    print(f\"{self.name} is a {species} and is {self.age} years old\")\n",
        "\n",
        "species = \"Human\"\n",
        "person1 = Person(\"Alice\",30)\n",
        "person2 = Person(\"Bob\",25)\n",
        "person1.display_info()\n",
        "person2.display_info()"
      ],
      "metadata": {
        "colab": {
          "base_uri": "https://localhost:8080/"
        },
        "id": "PkCKlpCup2zi",
        "outputId": "a0de12f7-ba1a-4667-b656-2ed338d30499"
      },
      "execution_count": null,
      "outputs": [
        {
          "output_type": "stream",
          "name": "stdout",
          "text": [
            "Alice is a Human and is 30 years old\n",
            "Bob is a Human and is 25 years old\n"
          ]
        }
      ]
    },
    {
      "cell_type": "markdown",
      "source": [
        "Create a base class Shape with a method area. Derive two classes, Circle and Rectangle, fromShape. Implement the area method in each derived class.\n",
        "Sample Input:\n",
        "For Circle: Radius = 5\n",
        "For Rectangle: Length = 4, Width = 6\n",
        "Sample Output:\n",
        "Area of Circle: 78.54\n",
        "Area of Rectangle: 24"
      ],
      "metadata": {
        "id": "zJbK8IVwyPOj"
      }
    },
    {
      "cell_type": "code",
      "source": [
        "class shape:\n",
        "  def area(self):\n",
        "    print(\"Do Nothing\")\n",
        "\n",
        "class circle(shape):\n",
        "  def area(self,r):\n",
        "    print(f\"The area of the circle : \", 3.14*r*r)\n",
        "\n",
        "class rectangle(shape):\n",
        "  def area(self,l,w):\n",
        "    print(\"The area of the rectangle is :\", l*w)\n",
        "\n",
        "c1 = circle()\n",
        "c1.area(5)\n",
        "r1 = rectangle()\n",
        "r1.area(4,6)\n",
        "\n",
        "\n",
        "\n",
        "\n"
      ],
      "metadata": {
        "id": "uh9EeQ6YouMO",
        "colab": {
          "base_uri": "https://localhost:8080/"
        },
        "outputId": "be338e25-08b2-406c-f33d-ce981f9aadc7"
      },
      "execution_count": null,
      "outputs": [
        {
          "output_type": "stream",
          "name": "stdout",
          "text": [
            "The area of the circle :  78.5\n",
            "The area of the rectangle is : 24\n"
          ]
        }
      ]
    },
    {
      "cell_type": "markdown",
      "source": [
        "Encapsulation describes the idea of wrapping data and the methods that work on data withinone unit.\n",
        "Question 6:\n",
        "Implement a class BankAccount with private attributes balance and account_number. Providemethods to deposit, withdraw, and display the balance.\n",
        "Hint:\n",
        "Use double underscores __ to make attributes private.\n",
        "\n",
        "Algorithm:\n",
        "Defi ne the class BankAccount with private attributes __balance and __account_number.\n",
        "Implement a constructor (_ _ init _ _) to initialize the balance and account number.\n",
        "Provide methods deposit and withdraw to modify the balance.\n",
        "Provide a method display_balance to display the balance.\n",
        "Use encapsulation to control access to the private attributes."
      ],
      "metadata": {
        "id": "fBUYAHRw-eKa"
      }
    },
    {
      "cell_type": "code",
      "source": [
        "class bankaccount:\n",
        "  def __init__(self,balance,account):\n",
        "    self.__balance = balance\n",
        "    self.__account = account\n",
        "    print(\"Account Number : \", self.__account)\n",
        "    print(\"Balance :\", self.__balance)\n",
        "\n",
        "  def deposit(self,deposit):\n",
        "    self.__balance = self.__balance + deposit\n",
        "    print(f\"After depositing {deposit}, the balance is : {self.__balance}\")\n",
        "\n",
        "  def withdraw(self,withdraw):\n",
        "      self.withdraw = withdraw\n",
        "      if(self.withdraw > self.__balance):\n",
        "        print(\"No Balance - Enter lesser amount\")\n",
        "      else:\n",
        "        self.__balance = self.__balance - withdraw\n",
        "        print(f\"After withdrawing {withdraw}, the balance is : {self.__balance}\")\n",
        "\n",
        "  def display(self):\n",
        "    print(\"Updated Balance = \", self.__balance)\n",
        "\n",
        "\n",
        "b1 = bankaccount(1000,\"ABC123\")\n",
        "b1.deposit(500)\n",
        "b1.display()\n",
        "b1.withdraw(200)\n",
        "b1.display()\n"
      ],
      "metadata": {
        "id": "KqFtRCWEzp1_",
        "colab": {
          "base_uri": "https://localhost:8080/"
        },
        "outputId": "38716807-b5dd-4a3c-92b3-55edcd410016"
      },
      "execution_count": null,
      "outputs": [
        {
          "output_type": "stream",
          "name": "stdout",
          "text": [
            "Account Number :  ABC123\n",
            "Balance : 1000\n",
            "After depositing 500, the balance is : 1500\n",
            "Updated Balance =  1500\n",
            "After withdrawing 200, the balance is : 1300\n",
            "Updated Balance =  1300\n"
          ]
        }
      ]
    },
    {
      "cell_type": "code",
      "source": [
        "class animal():\n",
        "\n",
        "  def init(self,name,sound):\n",
        "    self.name = name\n",
        "    self.sound = sound\n",
        "\n",
        "class dog(animal):\n",
        "\n",
        "  def make_sound(self,name,sound):\n",
        "    super().init(name,sound)\n",
        "    print(f\"Dog ({self.name}) says: {self.sound} !\")\n",
        "\n",
        "class cat(animal):\n",
        "\n",
        "  def make_sound(self,name,sound):\n",
        "    super().init(name,sound)\n",
        "    print(f\"Cat ({self.name}) says: {self.sound} !\")\n",
        "\n",
        "d1 = dog()\n",
        "d1.make_sound(\"Buddy\", \"Woof\")\n",
        "c1 = cat()\n",
        "c1.make_sound(\"Whiskers\", \"Meow\")"
      ],
      "metadata": {
        "colab": {
          "base_uri": "https://localhost:8080/"
        },
        "id": "2SrXSV7vGXts",
        "outputId": "9a67c6aa-a219-4432-f76f-dfa3950043f5"
      },
      "execution_count": null,
      "outputs": [
        {
          "output_type": "stream",
          "name": "stdout",
          "text": [
            "Dog (Buddy) says: Woof !\n",
            "Cat (Whiskers) says: Meow !\n"
          ]
        }
      ]
    },
    {
      "cell_type": "markdown",
      "source": [
        "Method overloading is used for creating methods with similar functionalities but different inputparameters. Method overriding is used for providing a specifi c implementation of a method in asubclass.\n",
        "Question 8:\n",
        "Algorithm:\n",
        "Defi ne a class named MathOperations.\n",
        "Implement a method named add that takes two parameters and returns their sum.\n",
        "Implement another method named add that takes three parameters and returns their sum.\n",
        "Implement a third method named add that takes a list of numbers and returns their sum.\n",
        "Use appropriate parameter names and meaningful method implementations."
      ],
      "metadata": {
        "id": "tjuwDIjrwgIO"
      }
    },
    {
      "cell_type": "code",
      "source": [
        "class MathOperations:\n",
        "\n",
        "  def add(self,a=None,b=None,c=None):\n",
        "    if a!=None and b!=None and c!=None:\n",
        "      print(\"Result (Three numbers):\",a+b+c)\n",
        "    elif a!=None and b!=None and c==None:\n",
        "      print(\"Result (Two numbers):\",a+b)\n",
        "    else:\n",
        "      print(\"None\")\n",
        "\n",
        "class MathOperations_List(MathOperations):\n",
        "\n",
        "    def add(self,*l):\n",
        "      total = 0\n",
        "      for i in l:\n",
        "        for j in i:\n",
        "          total += j\n",
        "      print(\"Result (List of numbers):\",total)\n",
        "\n",
        "m1=MathOperations()\n",
        "m1.add(5,3)\n",
        "m1.add(2,4,6)\n",
        "m2=MathOperations_List()\n",
        "num_list = [1,2,3]\n",
        "m2.add(num_list)"
      ],
      "metadata": {
        "colab": {
          "base_uri": "https://localhost:8080/"
        },
        "id": "qRfMwms3r_J9",
        "outputId": "aad7d107-6203-4c76-aa99-c3b0c638a115"
      },
      "execution_count": 52,
      "outputs": [
        {
          "output_type": "stream",
          "name": "stdout",
          "text": [
            "Result (Two numbers): 8\n",
            "Result (Three numbers): 12\n",
            "Result (List of numbers): 6\n"
          ]
        }
      ]
    },
    {
      "cell_type": "code",
      "source": [
        "class StringManipulator:\n",
        "  @staticmethod\n",
        "  def reverse_string(a):\n",
        "      return a[::-1]\n",
        "\n",
        "result = StringManipulator.reverse_string(\"phyton\")\n",
        "print(\"Result:\", result)"
      ],
      "metadata": {
        "colab": {
          "base_uri": "https://localhost:8080/"
        },
        "id": "t-ubwh2Swzw3",
        "outputId": "3225d566-5a15-4a48-98f0-5655aaffc012"
      },
      "execution_count": 63,
      "outputs": [
        {
          "output_type": "stream",
          "name": "stdout",
          "text": [
            "Result: notyhp\n"
          ]
        }
      ]
    },
    {
      "cell_type": "markdown",
      "source": [
        "class cat(animal):\n",
        "\n",
        "  def __init__(self,name,sound):\n",
        "    super().__init__(name,sound)\n",
        "\n",
        "  def make_sound(self):\n",
        "    super().__init__(name,sound)\n",
        "    print(f\"Cat ({self.name}) says: {self.sound} !\")"
      ],
      "metadata": {
        "id": "mlVFbUxYKQIn"
      }
    },
    {
      "cell_type": "code",
      "source": [
        "class TemperatureConverter:\n",
        "  @staticmethod\n",
        "  def celsius_to_fahrenheit(Celsius):\n",
        "    Fahrenheit = (Celsius * 9/5) + 32\n",
        "    return Fahrenheit\n",
        "\n",
        "result = TemperatureConverter.celsius_to_fahrenheit(20)\n",
        "print(\"Result:\", result)"
      ],
      "metadata": {
        "colab": {
          "base_uri": "https://localhost:8080/"
        },
        "id": "uxyrupoizNDm",
        "outputId": "bbb74cdb-ae49-4607-edf0-5327762e3b54"
      },
      "execution_count": 64,
      "outputs": [
        {
          "output_type": "stream",
          "name": "stdout",
          "text": [
            "Result: 68.0\n"
          ]
        }
      ]
    }
  ]
}